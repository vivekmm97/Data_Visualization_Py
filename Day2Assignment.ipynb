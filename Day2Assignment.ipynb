{
  "nbformat": 4,
  "nbformat_minor": 0,
  "metadata": {
    "colab": {
      "name": "Day2Assignment.ipynb",
      "provenance": []
    },
    "kernelspec": {
      "name": "python3",
      "display_name": "Python 3"
    },
    "language_info": {
      "name": "python"
    }
  },
  "cells": [
    {
      "cell_type": "code",
      "metadata": {
        "colab": {
          "base_uri": "https://localhost:8080/",
          "height": 359
        },
        "id": "6Ii6rMKcZ2Jy",
        "outputId": "b4aa3b69-2c88-4791-a62d-8cd08072368c"
      },
      "source": [
        "import matplotlib.pyplot as plt\n",
        "import numpy as np\n",
        "import pandas as pd\n",
        "%matplotlib inline\n",
        "from numpy.random import randn, randint, uniform, sample\n",
        "\n",
        "df = pd.DataFrame(randn(10,4), columns=['a','b','c','d'])\n",
        "df = df.sort_values(by= \"a\")\n",
        "df"
      ],
      "execution_count": 7,
      "outputs": [
        {
          "output_type": "execute_result",
          "data": {
            "text/html": [
              "<div>\n",
              "<style scoped>\n",
              "    .dataframe tbody tr th:only-of-type {\n",
              "        vertical-align: middle;\n",
              "    }\n",
              "\n",
              "    .dataframe tbody tr th {\n",
              "        vertical-align: top;\n",
              "    }\n",
              "\n",
              "    .dataframe thead th {\n",
              "        text-align: right;\n",
              "    }\n",
              "</style>\n",
              "<table border=\"1\" class=\"dataframe\">\n",
              "  <thead>\n",
              "    <tr style=\"text-align: right;\">\n",
              "      <th></th>\n",
              "      <th>a</th>\n",
              "      <th>b</th>\n",
              "      <th>c</th>\n",
              "      <th>d</th>\n",
              "    </tr>\n",
              "  </thead>\n",
              "  <tbody>\n",
              "    <tr>\n",
              "      <th>8</th>\n",
              "      <td>-1.912483</td>\n",
              "      <td>1.848415</td>\n",
              "      <td>0.214696</td>\n",
              "      <td>1.752770</td>\n",
              "    </tr>\n",
              "    <tr>\n",
              "      <th>7</th>\n",
              "      <td>-1.756139</td>\n",
              "      <td>1.456440</td>\n",
              "      <td>-0.462833</td>\n",
              "      <td>-0.009221</td>\n",
              "    </tr>\n",
              "    <tr>\n",
              "      <th>9</th>\n",
              "      <td>-1.146140</td>\n",
              "      <td>-1.402470</td>\n",
              "      <td>0.068024</td>\n",
              "      <td>-1.793878</td>\n",
              "    </tr>\n",
              "    <tr>\n",
              "      <th>1</th>\n",
              "      <td>-0.993223</td>\n",
              "      <td>1.568875</td>\n",
              "      <td>0.498419</td>\n",
              "      <td>-1.641265</td>\n",
              "    </tr>\n",
              "    <tr>\n",
              "      <th>4</th>\n",
              "      <td>-0.613179</td>\n",
              "      <td>0.149182</td>\n",
              "      <td>-0.765055</td>\n",
              "      <td>0.570412</td>\n",
              "    </tr>\n",
              "    <tr>\n",
              "      <th>0</th>\n",
              "      <td>0.121047</td>\n",
              "      <td>-0.108176</td>\n",
              "      <td>-0.416141</td>\n",
              "      <td>0.975760</td>\n",
              "    </tr>\n",
              "    <tr>\n",
              "      <th>2</th>\n",
              "      <td>0.125136</td>\n",
              "      <td>2.775410</td>\n",
              "      <td>0.716486</td>\n",
              "      <td>-0.459187</td>\n",
              "    </tr>\n",
              "    <tr>\n",
              "      <th>3</th>\n",
              "      <td>0.488622</td>\n",
              "      <td>1.161393</td>\n",
              "      <td>-1.311175</td>\n",
              "      <td>-0.200488</td>\n",
              "    </tr>\n",
              "    <tr>\n",
              "      <th>6</th>\n",
              "      <td>0.980081</td>\n",
              "      <td>-0.280018</td>\n",
              "      <td>-0.533351</td>\n",
              "      <td>0.588039</td>\n",
              "    </tr>\n",
              "    <tr>\n",
              "      <th>5</th>\n",
              "      <td>1.420562</td>\n",
              "      <td>3.009823</td>\n",
              "      <td>-0.664276</td>\n",
              "      <td>1.023734</td>\n",
              "    </tr>\n",
              "  </tbody>\n",
              "</table>\n",
              "</div>"
            ],
            "text/plain": [
              "          a         b         c         d\n",
              "8 -1.912483  1.848415  0.214696  1.752770\n",
              "7 -1.756139  1.456440 -0.462833 -0.009221\n",
              "9 -1.146140 -1.402470  0.068024 -1.793878\n",
              "1 -0.993223  1.568875  0.498419 -1.641265\n",
              "4 -0.613179  0.149182 -0.765055  0.570412\n",
              "0  0.121047 -0.108176 -0.416141  0.975760\n",
              "2  0.125136  2.775410  0.716486 -0.459187\n",
              "3  0.488622  1.161393 -1.311175 -0.200488\n",
              "6  0.980081 -0.280018 -0.533351  0.588039\n",
              "5  1.420562  3.009823 -0.664276  1.023734"
            ]
          },
          "metadata": {
            "tags": []
          },
          "execution_count": 7
        }
      ]
    },
    {
      "cell_type": "code",
      "metadata": {
        "colab": {
          "base_uri": "https://localhost:8080/",
          "height": 295
        },
        "id": "PKNpyQn7bhHd",
        "outputId": "c6ed92c1-1010-4c1c-c8ca-ad1e53304041"
      },
      "source": [
        "df.plot(kind = 'bar', title = 'Bar Chart Example')"
      ],
      "execution_count": 8,
      "outputs": [
        {
          "output_type": "execute_result",
          "data": {
            "text/plain": [
              "<matplotlib.axes._subplots.AxesSubplot at 0x7ff5124bd210>"
            ]
          },
          "metadata": {
            "tags": []
          },
          "execution_count": 8
        },
        {
          "output_type": "display_data",
          "data": {
            "image/png": "[encoded data removed]",
            "text/plain": [
              "<Figure size 432x288 with 1 Axes>"
            ]
          },
          "metadata": {
            "tags": [],
            "needs_background": "light"
          }
        }
      ]
    },
    {
      "cell_type": "code",
      "metadata": {
        "id": "zphcgDpgcak2"
      },
      "source": [
        ""
      ],
      "execution_count": null,
      "outputs": []
    }
  ]
}